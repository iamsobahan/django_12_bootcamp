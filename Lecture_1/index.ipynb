{
 "cells": [
  {
   "cell_type": "raw",
   "id": "11201efc-859d-4d05-ab5a-a873a2b87914",
   "metadata": {},
   "source": [
    "# Print function in python"
   ]
  },
  {
   "cell_type": "code",
   "execution_count": 1,
   "id": "3ded47db-317b-4ceb-9421-b03edc902891",
   "metadata": {},
   "outputs": [
    {
     "name": "stdout",
     "output_type": "stream",
     "text": [
      "Hello World!\n"
     ]
    }
   ],
   "source": [
    "print(\"Hello World!\")"
   ]
  },
  {
   "cell_type": "raw",
   "id": "dc970806-fa67-4430-ae8d-c75ec079a033",
   "metadata": {},
   "source": [
    "#Input function in python , we can take data from user by input(). remember input() function always returns string"
   ]
  },
  {
   "cell_type": "code",
   "execution_count": 5,
   "id": "5f4a9ca0-4527-42c0-bc57-0cadc4c6531d",
   "metadata": {},
   "outputs": [
    {
     "name": "stdin",
     "output_type": "stream",
     "text": [
      "Enter a anything:  Hello world\n"
     ]
    },
    {
     "name": "stdout",
     "output_type": "stream",
     "text": [
      "Hello world\n"
     ]
    }
   ],
   "source": [
    "text = input(\"Enter a anything: \")\n",
    "print(text)"
   ]
  },
  {
   "cell_type": "raw",
   "id": "3066acca-e639-4b87-95e4-58564218e45b",
   "metadata": {},
   "source": [
    "# How can i check input function return string or not! through type() "
   ]
  },
  {
   "cell_type": "code",
   "execution_count": 4,
   "id": "b0396a68-f357-4d9c-a1a4-d108ca43a52a",
   "metadata": {},
   "outputs": [
    {
     "name": "stdin",
     "output_type": "stream",
     "text": [
      "Enter a anything:  345\n"
     ]
    },
    {
     "name": "stdout",
     "output_type": "stream",
     "text": [
      "<class 'str'>\n"
     ]
    }
   ],
   "source": [
    "user_value = input(\"Enter a anything: \")\n",
    "print(type(user_value))"
   ]
  },
  {
   "cell_type": "raw",
   "id": "2e8c8eb2-c525-4ba3-b012-5134952068ff",
   "metadata": {},
   "source": [
    "# here you can see , i wrote 345 . but output displayed it's type is str means string."
   ]
  },
  {
   "cell_type": "code",
   "execution_count": null,
   "id": "7a70327f-064f-4232-870f-65a9686d147d",
   "metadata": {},
   "outputs": [],
   "source": [
    "# We can type casting through int(), str(), bool() and many more"
   ]
  },
  {
   "cell_type": "raw",
   "id": "d33c04f1-b911-47fd-a666-52218f0efb47",
   "metadata": {},
   "source": [
    "# There are several data types in python such as integer , float,  complex,  string, dictionary, tuple, list , set"
   ]
  },
  {
   "cell_type": "raw",
   "id": "fe63b5eb-55dc-453b-905c-959929de7722",
   "metadata": {},
   "source": [
    "#There are few rules for declare variables such as never starts with number and special characters, always starts with characters(a-z, A-Z) also can start with underscore.  never make whitespace between two words in variable."
   ]
  },
  {
   "cell_type": "markdown",
   "id": "f3d9831a-c3f4-476e-806d-6552d156ebda",
   "metadata": {},
   "source": [
    "# Number"
   ]
  },
  {
   "cell_type": "code",
   "execution_count": 7,
   "id": "81011216-6afe-40b3-955e-a84df31b6e07",
   "metadata": {},
   "outputs": [
    {
     "name": "stdout",
     "output_type": "stream",
     "text": [
      "12\n",
      "<class 'int'>\n"
     ]
    }
   ],
   "source": [
    "my_number = 12\n",
    "print(my_number)\n",
    "print(type(my_number))"
   ]
  },
  {
   "cell_type": "markdown",
   "id": "f116a67c-93f1-4916-8931-dc4e14ca2dd8",
   "metadata": {},
   "source": [
    "# String"
   ]
  },
  {
   "cell_type": "code",
   "execution_count": 9,
   "id": "c6db67fc-4f17-404e-9553-1a9cf67b3758",
   "metadata": {},
   "outputs": [
    {
     "name": "stdout",
     "output_type": "stream",
     "text": [
      "Hello world!\n",
      "<class 'str'>\n"
     ]
    }
   ],
   "source": [
    "my_str = \"Hello world!\"\n",
    "print(my_str)\n",
    "print(type(my_str))"
   ]
  },
  {
   "cell_type": "markdown",
   "id": "fef8eea8-0629-47d1-b015-11612716e632",
   "metadata": {},
   "source": [
    "# Boolean"
   ]
  },
  {
   "cell_type": "code",
   "execution_count": 11,
   "id": "9e99dda4-0017-4c6a-b8cc-b07221cf6e6c",
   "metadata": {},
   "outputs": [
    {
     "name": "stdout",
     "output_type": "stream",
     "text": [
      "False\n",
      "<class 'bool'>\n"
     ]
    }
   ],
   "source": [
    "my_bool = False\n",
    "print(my_bool)\n",
    "print(type(my_bool))"
   ]
  },
  {
   "cell_type": "code",
   "execution_count": null,
   "id": "a2f981ad-fe4a-4ba3-a30b-a1c9efb97e6c",
   "metadata": {},
   "outputs": [],
   "source": []
  }
 ],
 "metadata": {
  "kernelspec": {
   "display_name": "Python 3 (ipykernel)",
   "language": "python",
   "name": "python3"
  },
  "language_info": {
   "codemirror_mode": {
    "name": "ipython",
    "version": 3
   },
   "file_extension": ".py",
   "mimetype": "text/x-python",
   "name": "python",
   "nbconvert_exporter": "python",
   "pygments_lexer": "ipython3",
   "version": "3.11.7"
  }
 },
 "nbformat": 4,
 "nbformat_minor": 5
}
